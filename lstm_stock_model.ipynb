{
 "cells": [
  {
   "cell_type": "markdown",
   "metadata": {},
   "source": [
    "> Name: Sushant Pokharel \n"
   ]
  },
  {
   "cell_type": "markdown",
   "metadata": {},
   "source": [
    "# Using Long Short-Term Memory (LSTM) Model to Predict Stock Prices"
   ]
  },
  {
   "cell_type": "markdown",
   "metadata": {},
   "source": [
    "### Terminologes used: \n",
    "\n",
    "---\n",
    "\n",
    "- **Epoch**  =>  Passing the input data through the network and optimizing the weights once, is one epoch. <br/>\n",
    "\n",
    "\n",
    "- **Batch**  =>  The training data is divided into batches. Theoretically one can feed all the training data into a network at once, but practically it is limited to the computer’s memory. <br/>\n",
    "\n",
    "\n",
    "- **Error function**  =>  E(y, t), where y is the output of the network and t is some target value. Minimizing the error function is equal to training the network. Mean squared error, MSE = p.square(np.subtract(Y_true,Y_pred)).mean() <br/>\n",
    "\n",
    "\n",
    "- **LSTM network**  =>  A recurrent network structure which is capable of learning long-term dependencies. <br/>\n",
    "\n",
    "\n",
    "- **Min-Max Scaling**  =>  A normalization method. all features will be transformed into the range [0,1] meaning that the minimum and maximum value of a feature/variable is going to be 0 and 1, respectively. <br/>\n",
    "\n"
   ]
  },
  {
   "cell_type": "markdown",
   "metadata": {},
   "source": [
    "## About Dataset\n",
    "---\n",
    "### Company: Nepal Telecom \n",
    "\n",
    "\n",
    "### Duration: From year 2010 to 2020\n",
    "\n",
    "\n",
    "> Source: https://www.kaggle.com/dklbbk/nepaltelecom-stock-price\n",
    "\n",
    "<br/>"
   ]
  },
  {
   "cell_type": "markdown",
   "metadata": {},
   "source": [
    "### In sequence prediction problems such as Stock Price prediction, LSTM are powerful as they have ability to store past information in memory. This feature is very applicable in this project because previous prices are crutial to predict future price."
   ]
  },
  {
   "cell_type": "markdown",
   "metadata": {},
   "source": [
    "### We will start by importing required dependencies: Numpy, Pandas, Matplotlib and MinMax Scaler. "
   ]
  },
  {
   "cell_type": "code",
   "execution_count": 1,
   "metadata": {},
   "outputs": [],
   "source": [
    "import numpy as np\n",
    "import matplotlib.pyplot as plt\n",
    "import pandas as pd\n",
    "from sklearn.preprocessing import MinMaxScaler"
   ]
  },
  {
   "cell_type": "markdown",
   "metadata": {},
   "source": [
    "### We will now store dataset into the variable df. \n",
    "\n",
    "### date_parser is used to convert string columns into array of date-time instances"
   ]
  },
  {
   "cell_type": "code",
   "execution_count": 2,
   "metadata": {},
   "outputs": [],
   "source": [
    "df = pd.read_csv('ntcprice.csv', date_parser = True)"
   ]
  },
  {
   "cell_type": "code",
   "execution_count": 3,
   "metadata": {
    "scrolled": true
   },
   "outputs": [
    {
     "data": {
      "text/html": [
       "<div>\n",
       "<style scoped>\n",
       "    .dataframe tbody tr th:only-of-type {\n",
       "        vertical-align: middle;\n",
       "    }\n",
       "\n",
       "    .dataframe tbody tr th {\n",
       "        vertical-align: top;\n",
       "    }\n",
       "\n",
       "    .dataframe thead th {\n",
       "        text-align: right;\n",
       "    }\n",
       "</style>\n",
       "<table border=\"1\" class=\"dataframe\">\n",
       "  <thead>\n",
       "    <tr style=\"text-align: right;\">\n",
       "      <th></th>\n",
       "      <th>SN</th>\n",
       "      <th>Date</th>\n",
       "      <th>No. of Transaction</th>\n",
       "      <th>Max Price</th>\n",
       "      <th>Min Price</th>\n",
       "      <th>Closing Price</th>\n",
       "      <th>Traded Shares</th>\n",
       "      <th>Total Amount</th>\n",
       "      <th>Prev. Closing</th>\n",
       "      <th>Difference(Rs)</th>\n",
       "      <th>% Change</th>\n",
       "    </tr>\n",
       "  </thead>\n",
       "  <tbody>\n",
       "    <tr>\n",
       "      <th>0</th>\n",
       "      <td>1</td>\n",
       "      <td>2020-01-01</td>\n",
       "      <td>37</td>\n",
       "      <td>623.0</td>\n",
       "      <td>612.0</td>\n",
       "      <td>619.0</td>\n",
       "      <td>6310</td>\n",
       "      <td>3886900</td>\n",
       "      <td>623.0</td>\n",
       "      <td>-4.0</td>\n",
       "      <td>-0.64</td>\n",
       "    </tr>\n",
       "    <tr>\n",
       "      <th>1</th>\n",
       "      <td>2</td>\n",
       "      <td>2019-12-31</td>\n",
       "      <td>39</td>\n",
       "      <td>649.0</td>\n",
       "      <td>620.0</td>\n",
       "      <td>623.0</td>\n",
       "      <td>3034</td>\n",
       "      <td>1896758</td>\n",
       "      <td>662.0</td>\n",
       "      <td>-39.0</td>\n",
       "      <td>-5.89</td>\n",
       "    </tr>\n",
       "    <tr>\n",
       "      <th>2</th>\n",
       "      <td>3</td>\n",
       "      <td>2019-12-30</td>\n",
       "      <td>134</td>\n",
       "      <td>662.0</td>\n",
       "      <td>655.0</td>\n",
       "      <td>662.0</td>\n",
       "      <td>28830</td>\n",
       "      <td>19005838</td>\n",
       "      <td>659.0</td>\n",
       "      <td>3.0</td>\n",
       "      <td>0.46</td>\n",
       "    </tr>\n",
       "    <tr>\n",
       "      <th>3</th>\n",
       "      <td>4</td>\n",
       "      <td>2019-12-29</td>\n",
       "      <td>47</td>\n",
       "      <td>664.0</td>\n",
       "      <td>658.0</td>\n",
       "      <td>659.0</td>\n",
       "      <td>6455</td>\n",
       "      <td>4254337</td>\n",
       "      <td>657.0</td>\n",
       "      <td>2.0</td>\n",
       "      <td>0.30</td>\n",
       "    </tr>\n",
       "    <tr>\n",
       "      <th>4</th>\n",
       "      <td>5</td>\n",
       "      <td>2019-12-26</td>\n",
       "      <td>45</td>\n",
       "      <td>668.0</td>\n",
       "      <td>654.0</td>\n",
       "      <td>657.0</td>\n",
       "      <td>3815</td>\n",
       "      <td>2506070</td>\n",
       "      <td>657.0</td>\n",
       "      <td>0.0</td>\n",
       "      <td>0.00</td>\n",
       "    </tr>\n",
       "    <tr>\n",
       "      <th>5</th>\n",
       "      <td>6</td>\n",
       "      <td>2019-12-25</td>\n",
       "      <td>48</td>\n",
       "      <td>660.0</td>\n",
       "      <td>650.0</td>\n",
       "      <td>657.0</td>\n",
       "      <td>7225</td>\n",
       "      <td>4735546</td>\n",
       "      <td>653.0</td>\n",
       "      <td>4.0</td>\n",
       "      <td>0.61</td>\n",
       "    </tr>\n",
       "    <tr>\n",
       "      <th>6</th>\n",
       "      <td>7</td>\n",
       "      <td>2019-12-24</td>\n",
       "      <td>166</td>\n",
       "      <td>670.0</td>\n",
       "      <td>650.0</td>\n",
       "      <td>653.0</td>\n",
       "      <td>15459</td>\n",
       "      <td>10112842</td>\n",
       "      <td>659.0</td>\n",
       "      <td>-6.0</td>\n",
       "      <td>-0.91</td>\n",
       "    </tr>\n",
       "    <tr>\n",
       "      <th>7</th>\n",
       "      <td>8</td>\n",
       "      <td>2019-12-23</td>\n",
       "      <td>38</td>\n",
       "      <td>659.0</td>\n",
       "      <td>637.0</td>\n",
       "      <td>659.0</td>\n",
       "      <td>5000</td>\n",
       "      <td>3210900</td>\n",
       "      <td>641.0</td>\n",
       "      <td>18.0</td>\n",
       "      <td>2.81</td>\n",
       "    </tr>\n",
       "    <tr>\n",
       "      <th>8</th>\n",
       "      <td>9</td>\n",
       "      <td>2019-12-22</td>\n",
       "      <td>20</td>\n",
       "      <td>643.0</td>\n",
       "      <td>635.0</td>\n",
       "      <td>641.0</td>\n",
       "      <td>2262</td>\n",
       "      <td>1443946</td>\n",
       "      <td>636.0</td>\n",
       "      <td>5.0</td>\n",
       "      <td>0.79</td>\n",
       "    </tr>\n",
       "    <tr>\n",
       "      <th>9</th>\n",
       "      <td>10</td>\n",
       "      <td>2019-12-19</td>\n",
       "      <td>31</td>\n",
       "      <td>652.0</td>\n",
       "      <td>632.0</td>\n",
       "      <td>636.0</td>\n",
       "      <td>1808</td>\n",
       "      <td>1152456</td>\n",
       "      <td>643.0</td>\n",
       "      <td>-7.0</td>\n",
       "      <td>-1.09</td>\n",
       "    </tr>\n",
       "  </tbody>\n",
       "</table>\n",
       "</div>"
      ],
      "text/plain": [
       "   SN        Date  No. of Transaction  Max Price  Min Price  Closing Price  \\\n",
       "0   1  2020-01-01                  37      623.0      612.0          619.0   \n",
       "1   2  2019-12-31                  39      649.0      620.0          623.0   \n",
       "2   3  2019-12-30                 134      662.0      655.0          662.0   \n",
       "3   4  2019-12-29                  47      664.0      658.0          659.0   \n",
       "4   5  2019-12-26                  45      668.0      654.0          657.0   \n",
       "5   6  2019-12-25                  48      660.0      650.0          657.0   \n",
       "6   7  2019-12-24                 166      670.0      650.0          653.0   \n",
       "7   8  2019-12-23                  38      659.0      637.0          659.0   \n",
       "8   9  2019-12-22                  20      643.0      635.0          641.0   \n",
       "9  10  2019-12-19                  31      652.0      632.0          636.0   \n",
       "\n",
       "   Traded Shares  Total Amount  Prev. Closing  Difference(Rs)  % Change  \n",
       "0           6310       3886900          623.0            -4.0     -0.64  \n",
       "1           3034       1896758          662.0           -39.0     -5.89  \n",
       "2          28830      19005838          659.0             3.0      0.46  \n",
       "3           6455       4254337          657.0             2.0      0.30  \n",
       "4           3815       2506070          657.0             0.0      0.00  \n",
       "5           7225       4735546          653.0             4.0      0.61  \n",
       "6          15459      10112842          659.0            -6.0     -0.91  \n",
       "7           5000       3210900          641.0            18.0      2.81  \n",
       "8           2262       1443946          636.0             5.0      0.79  \n",
       "9           1808       1152456          643.0            -7.0     -1.09  "
      ]
     },
     "execution_count": 3,
     "metadata": {},
     "output_type": "execute_result"
    }
   ],
   "source": [
    "df.head(10)"
   ]
  },
  {
   "cell_type": "code",
   "execution_count": 4,
   "metadata": {},
   "outputs": [
    {
     "data": {
      "text/html": [
       "<div>\n",
       "<style scoped>\n",
       "    .dataframe tbody tr th:only-of-type {\n",
       "        vertical-align: middle;\n",
       "    }\n",
       "\n",
       "    .dataframe tbody tr th {\n",
       "        vertical-align: top;\n",
       "    }\n",
       "\n",
       "    .dataframe thead th {\n",
       "        text-align: right;\n",
       "    }\n",
       "</style>\n",
       "<table border=\"1\" class=\"dataframe\">\n",
       "  <thead>\n",
       "    <tr style=\"text-align: right;\">\n",
       "      <th></th>\n",
       "      <th>SN</th>\n",
       "      <th>Date</th>\n",
       "      <th>No. of Transaction</th>\n",
       "      <th>Max Price</th>\n",
       "      <th>Min Price</th>\n",
       "      <th>Closing Price</th>\n",
       "      <th>Traded Shares</th>\n",
       "      <th>Total Amount</th>\n",
       "      <th>Prev. Closing</th>\n",
       "      <th>Difference(Rs)</th>\n",
       "      <th>% Change</th>\n",
       "    </tr>\n",
       "  </thead>\n",
       "  <tbody>\n",
       "    <tr>\n",
       "      <th>2190</th>\n",
       "      <td>2191</td>\n",
       "      <td>2010-04-27</td>\n",
       "      <td>11</td>\n",
       "      <td>448.0</td>\n",
       "      <td>433.0</td>\n",
       "      <td>445.0</td>\n",
       "      <td>3030</td>\n",
       "      <td>1335440</td>\n",
       "      <td>445.0</td>\n",
       "      <td>0.0</td>\n",
       "      <td>0.00</td>\n",
       "    </tr>\n",
       "    <tr>\n",
       "      <th>2191</th>\n",
       "      <td>2192</td>\n",
       "      <td>2010-04-26</td>\n",
       "      <td>3</td>\n",
       "      <td>448.0</td>\n",
       "      <td>441.0</td>\n",
       "      <td>445.0</td>\n",
       "      <td>1200</td>\n",
       "      <td>534700</td>\n",
       "      <td>455.0</td>\n",
       "      <td>-10.0</td>\n",
       "      <td>-2.20</td>\n",
       "    </tr>\n",
       "    <tr>\n",
       "      <th>2192</th>\n",
       "      <td>2193</td>\n",
       "      <td>2010-04-25</td>\n",
       "      <td>10</td>\n",
       "      <td>455.0</td>\n",
       "      <td>440.0</td>\n",
       "      <td>455.0</td>\n",
       "      <td>2310</td>\n",
       "      <td>1035190</td>\n",
       "      <td>440.0</td>\n",
       "      <td>15.0</td>\n",
       "      <td>3.41</td>\n",
       "    </tr>\n",
       "    <tr>\n",
       "      <th>2193</th>\n",
       "      <td>2194</td>\n",
       "      <td>2010-04-22</td>\n",
       "      <td>5</td>\n",
       "      <td>440.0</td>\n",
       "      <td>433.0</td>\n",
       "      <td>440.0</td>\n",
       "      <td>1250</td>\n",
       "      <td>542850</td>\n",
       "      <td>443.0</td>\n",
       "      <td>-3.0</td>\n",
       "      <td>-0.68</td>\n",
       "    </tr>\n",
       "    <tr>\n",
       "      <th>2194</th>\n",
       "      <td>2195</td>\n",
       "      <td>2010-04-21</td>\n",
       "      <td>10</td>\n",
       "      <td>444.0</td>\n",
       "      <td>438.0</td>\n",
       "      <td>443.0</td>\n",
       "      <td>2000</td>\n",
       "      <td>882540</td>\n",
       "      <td>444.0</td>\n",
       "      <td>-1.0</td>\n",
       "      <td>-0.23</td>\n",
       "    </tr>\n",
       "    <tr>\n",
       "      <th>2195</th>\n",
       "      <td>2196</td>\n",
       "      <td>2010-04-20</td>\n",
       "      <td>7</td>\n",
       "      <td>445.0</td>\n",
       "      <td>440.0</td>\n",
       "      <td>444.0</td>\n",
       "      <td>3870</td>\n",
       "      <td>1708480</td>\n",
       "      <td>441.0</td>\n",
       "      <td>3.0</td>\n",
       "      <td>0.68</td>\n",
       "    </tr>\n",
       "    <tr>\n",
       "      <th>2196</th>\n",
       "      <td>2197</td>\n",
       "      <td>2010-04-19</td>\n",
       "      <td>3</td>\n",
       "      <td>445.0</td>\n",
       "      <td>441.0</td>\n",
       "      <td>441.0</td>\n",
       "      <td>400</td>\n",
       "      <td>177500</td>\n",
       "      <td>442.0</td>\n",
       "      <td>-1.0</td>\n",
       "      <td>-0.23</td>\n",
       "    </tr>\n",
       "    <tr>\n",
       "      <th>2197</th>\n",
       "      <td>2198</td>\n",
       "      <td>2010-04-15</td>\n",
       "      <td>13</td>\n",
       "      <td>455.0</td>\n",
       "      <td>422.0</td>\n",
       "      <td>455.0</td>\n",
       "      <td>3300</td>\n",
       "      <td>1464600</td>\n",
       "      <td>414.0</td>\n",
       "      <td>41.0</td>\n",
       "      <td>9.90</td>\n",
       "    </tr>\n",
       "    <tr>\n",
       "      <th>2198</th>\n",
       "      <td>2199</td>\n",
       "      <td>2010-04-15</td>\n",
       "      <td>13</td>\n",
       "      <td>455.0</td>\n",
       "      <td>422.0</td>\n",
       "      <td>455.0</td>\n",
       "      <td>3300</td>\n",
       "      <td>1464600</td>\n",
       "      <td>414.0</td>\n",
       "      <td>41.0</td>\n",
       "      <td>9.90</td>\n",
       "    </tr>\n",
       "    <tr>\n",
       "      <th>2199</th>\n",
       "      <td>2200</td>\n",
       "      <td>2010-04-15</td>\n",
       "      <td>13</td>\n",
       "      <td>455.0</td>\n",
       "      <td>422.0</td>\n",
       "      <td>455.0</td>\n",
       "      <td>3300</td>\n",
       "      <td>1464600</td>\n",
       "      <td>414.0</td>\n",
       "      <td>41.0</td>\n",
       "      <td>9.90</td>\n",
       "    </tr>\n",
       "  </tbody>\n",
       "</table>\n",
       "</div>"
      ],
      "text/plain": [
       "        SN        Date  No. of Transaction  Max Price  Min Price  \\\n",
       "2190  2191  2010-04-27                  11      448.0      433.0   \n",
       "2191  2192  2010-04-26                   3      448.0      441.0   \n",
       "2192  2193  2010-04-25                  10      455.0      440.0   \n",
       "2193  2194  2010-04-22                   5      440.0      433.0   \n",
       "2194  2195  2010-04-21                  10      444.0      438.0   \n",
       "2195  2196  2010-04-20                   7      445.0      440.0   \n",
       "2196  2197  2010-04-19                   3      445.0      441.0   \n",
       "2197  2198  2010-04-15                  13      455.0      422.0   \n",
       "2198  2199  2010-04-15                  13      455.0      422.0   \n",
       "2199  2200  2010-04-15                  13      455.0      422.0   \n",
       "\n",
       "      Closing Price  Traded Shares  Total Amount  Prev. Closing  \\\n",
       "2190          445.0           3030       1335440          445.0   \n",
       "2191          445.0           1200        534700          455.0   \n",
       "2192          455.0           2310       1035190          440.0   \n",
       "2193          440.0           1250        542850          443.0   \n",
       "2194          443.0           2000        882540          444.0   \n",
       "2195          444.0           3870       1708480          441.0   \n",
       "2196          441.0            400        177500          442.0   \n",
       "2197          455.0           3300       1464600          414.0   \n",
       "2198          455.0           3300       1464600          414.0   \n",
       "2199          455.0           3300       1464600          414.0   \n",
       "\n",
       "      Difference(Rs)  % Change  \n",
       "2190             0.0      0.00  \n",
       "2191           -10.0     -2.20  \n",
       "2192            15.0      3.41  \n",
       "2193            -3.0     -0.68  \n",
       "2194            -1.0     -0.23  \n",
       "2195             3.0      0.68  \n",
       "2196            -1.0     -0.23  \n",
       "2197            41.0      9.90  \n",
       "2198            41.0      9.90  \n",
       "2199            41.0      9.90  "
      ]
     },
     "execution_count": 4,
     "metadata": {},
     "output_type": "execute_result"
    }
   ],
   "source": [
    "df.tail(10)"
   ]
  },
  {
   "cell_type": "code",
   "execution_count": 5,
   "metadata": {
    "scrolled": true
   },
   "outputs": [
    {
     "data": {
      "text/plain": [
       "(2200, 11)"
      ]
     },
     "execution_count": 5,
     "metadata": {},
     "output_type": "execute_result"
    }
   ],
   "source": [
    "df.shape"
   ]
  },
  {
   "cell_type": "markdown",
   "metadata": {},
   "source": [
    "## Splitting the data into training and testing sets\n",
    "\n",
    "### Using this code we will be able to train our model on data form year 2010 to 1st of jan 2019\n",
    "### We will test the model on data from 1st of jan 2019 to 1st of jan 2020"
   ]
  },
  {
   "cell_type": "code",
   "execution_count": 6,
   "metadata": {},
   "outputs": [],
   "source": [
    "data_training = df[df['Date']<'2019-01-01'].copy()\n",
    "data_test = df[df['Date']>='2019-01-01'].copy()"
   ]
  },
  {
   "cell_type": "code",
   "execution_count": 7,
   "metadata": {
    "scrolled": false
   },
   "outputs": [
    {
     "data": {
      "text/html": [
       "<div>\n",
       "<style scoped>\n",
       "    .dataframe tbody tr th:only-of-type {\n",
       "        vertical-align: middle;\n",
       "    }\n",
       "\n",
       "    .dataframe tbody tr th {\n",
       "        vertical-align: top;\n",
       "    }\n",
       "\n",
       "    .dataframe thead th {\n",
       "        text-align: right;\n",
       "    }\n",
       "</style>\n",
       "<table border=\"1\" class=\"dataframe\">\n",
       "  <thead>\n",
       "    <tr style=\"text-align: right;\">\n",
       "      <th></th>\n",
       "      <th>SN</th>\n",
       "      <th>Date</th>\n",
       "      <th>No. of Transaction</th>\n",
       "      <th>Max Price</th>\n",
       "      <th>Min Price</th>\n",
       "      <th>Closing Price</th>\n",
       "      <th>Traded Shares</th>\n",
       "      <th>Total Amount</th>\n",
       "      <th>Prev. Closing</th>\n",
       "      <th>Difference(Rs)</th>\n",
       "      <th>% Change</th>\n",
       "    </tr>\n",
       "  </thead>\n",
       "  <tbody>\n",
       "    <tr>\n",
       "      <th>243</th>\n",
       "      <td>244</td>\n",
       "      <td>2018-12-31</td>\n",
       "      <td>15</td>\n",
       "      <td>743.0</td>\n",
       "      <td>731.0</td>\n",
       "      <td>734.0</td>\n",
       "      <td>3110</td>\n",
       "      <td>2286790</td>\n",
       "      <td>743.0</td>\n",
       "      <td>-9.0</td>\n",
       "      <td>-1.21</td>\n",
       "    </tr>\n",
       "    <tr>\n",
       "      <th>244</th>\n",
       "      <td>245</td>\n",
       "      <td>2018-12-30</td>\n",
       "      <td>67</td>\n",
       "      <td>797.0</td>\n",
       "      <td>743.0</td>\n",
       "      <td>743.0</td>\n",
       "      <td>18455</td>\n",
       "      <td>13756150</td>\n",
       "      <td>797.0</td>\n",
       "      <td>-54.0</td>\n",
       "      <td>-6.78</td>\n",
       "    </tr>\n",
       "    <tr>\n",
       "      <th>245</th>\n",
       "      <td>246</td>\n",
       "      <td>2018-12-27</td>\n",
       "      <td>135</td>\n",
       "      <td>804.0</td>\n",
       "      <td>790.0</td>\n",
       "      <td>797.0</td>\n",
       "      <td>23618</td>\n",
       "      <td>18746584</td>\n",
       "      <td>792.0</td>\n",
       "      <td>5.0</td>\n",
       "      <td>0.63</td>\n",
       "    </tr>\n",
       "    <tr>\n",
       "      <th>246</th>\n",
       "      <td>247</td>\n",
       "      <td>2018-12-26</td>\n",
       "      <td>56</td>\n",
       "      <td>792.0</td>\n",
       "      <td>785.0</td>\n",
       "      <td>792.0</td>\n",
       "      <td>13328</td>\n",
       "      <td>10515076</td>\n",
       "      <td>785.0</td>\n",
       "      <td>7.0</td>\n",
       "      <td>0.89</td>\n",
       "    </tr>\n",
       "    <tr>\n",
       "      <th>247</th>\n",
       "      <td>248</td>\n",
       "      <td>2018-12-25</td>\n",
       "      <td>31</td>\n",
       "      <td>790.0</td>\n",
       "      <td>780.0</td>\n",
       "      <td>785.0</td>\n",
       "      <td>7800</td>\n",
       "      <td>6108265</td>\n",
       "      <td>790.0</td>\n",
       "      <td>-5.0</td>\n",
       "      <td>-0.63</td>\n",
       "    </tr>\n",
       "  </tbody>\n",
       "</table>\n",
       "</div>"
      ],
      "text/plain": [
       "      SN        Date  No. of Transaction  Max Price  Min Price  Closing Price  \\\n",
       "243  244  2018-12-31                  15      743.0      731.0          734.0   \n",
       "244  245  2018-12-30                  67      797.0      743.0          743.0   \n",
       "245  246  2018-12-27                 135      804.0      790.0          797.0   \n",
       "246  247  2018-12-26                  56      792.0      785.0          792.0   \n",
       "247  248  2018-12-25                  31      790.0      780.0          785.0   \n",
       "\n",
       "     Traded Shares  Total Amount  Prev. Closing  Difference(Rs)  % Change  \n",
       "243           3110       2286790          743.0            -9.0     -1.21  \n",
       "244          18455      13756150          797.0           -54.0     -6.78  \n",
       "245          23618      18746584          792.0             5.0      0.63  \n",
       "246          13328      10515076          785.0             7.0      0.89  \n",
       "247           7800       6108265          790.0            -5.0     -0.63  "
      ]
     },
     "execution_count": 7,
     "metadata": {},
     "output_type": "execute_result"
    }
   ],
   "source": [
    "data_training.head()"
   ]
  },
  {
   "cell_type": "code",
   "execution_count": 8,
   "metadata": {
    "scrolled": false
   },
   "outputs": [
    {
     "data": {
      "text/html": [
       "<div>\n",
       "<style scoped>\n",
       "    .dataframe tbody tr th:only-of-type {\n",
       "        vertical-align: middle;\n",
       "    }\n",
       "\n",
       "    .dataframe tbody tr th {\n",
       "        vertical-align: top;\n",
       "    }\n",
       "\n",
       "    .dataframe thead th {\n",
       "        text-align: right;\n",
       "    }\n",
       "</style>\n",
       "<table border=\"1\" class=\"dataframe\">\n",
       "  <thead>\n",
       "    <tr style=\"text-align: right;\">\n",
       "      <th></th>\n",
       "      <th>SN</th>\n",
       "      <th>Date</th>\n",
       "      <th>No. of Transaction</th>\n",
       "      <th>Max Price</th>\n",
       "      <th>Min Price</th>\n",
       "      <th>Closing Price</th>\n",
       "      <th>Traded Shares</th>\n",
       "      <th>Total Amount</th>\n",
       "      <th>Prev. Closing</th>\n",
       "      <th>Difference(Rs)</th>\n",
       "      <th>% Change</th>\n",
       "    </tr>\n",
       "  </thead>\n",
       "  <tbody>\n",
       "    <tr>\n",
       "      <th>0</th>\n",
       "      <td>1</td>\n",
       "      <td>2020-01-01</td>\n",
       "      <td>37</td>\n",
       "      <td>623.0</td>\n",
       "      <td>612.0</td>\n",
       "      <td>619.0</td>\n",
       "      <td>6310</td>\n",
       "      <td>3886900</td>\n",
       "      <td>623.0</td>\n",
       "      <td>-4.0</td>\n",
       "      <td>-0.64</td>\n",
       "    </tr>\n",
       "    <tr>\n",
       "      <th>1</th>\n",
       "      <td>2</td>\n",
       "      <td>2019-12-31</td>\n",
       "      <td>39</td>\n",
       "      <td>649.0</td>\n",
       "      <td>620.0</td>\n",
       "      <td>623.0</td>\n",
       "      <td>3034</td>\n",
       "      <td>1896758</td>\n",
       "      <td>662.0</td>\n",
       "      <td>-39.0</td>\n",
       "      <td>-5.89</td>\n",
       "    </tr>\n",
       "    <tr>\n",
       "      <th>2</th>\n",
       "      <td>3</td>\n",
       "      <td>2019-12-30</td>\n",
       "      <td>134</td>\n",
       "      <td>662.0</td>\n",
       "      <td>655.0</td>\n",
       "      <td>662.0</td>\n",
       "      <td>28830</td>\n",
       "      <td>19005838</td>\n",
       "      <td>659.0</td>\n",
       "      <td>3.0</td>\n",
       "      <td>0.46</td>\n",
       "    </tr>\n",
       "    <tr>\n",
       "      <th>3</th>\n",
       "      <td>4</td>\n",
       "      <td>2019-12-29</td>\n",
       "      <td>47</td>\n",
       "      <td>664.0</td>\n",
       "      <td>658.0</td>\n",
       "      <td>659.0</td>\n",
       "      <td>6455</td>\n",
       "      <td>4254337</td>\n",
       "      <td>657.0</td>\n",
       "      <td>2.0</td>\n",
       "      <td>0.30</td>\n",
       "    </tr>\n",
       "    <tr>\n",
       "      <th>4</th>\n",
       "      <td>5</td>\n",
       "      <td>2019-12-26</td>\n",
       "      <td>45</td>\n",
       "      <td>668.0</td>\n",
       "      <td>654.0</td>\n",
       "      <td>657.0</td>\n",
       "      <td>3815</td>\n",
       "      <td>2506070</td>\n",
       "      <td>657.0</td>\n",
       "      <td>0.0</td>\n",
       "      <td>0.00</td>\n",
       "    </tr>\n",
       "  </tbody>\n",
       "</table>\n",
       "</div>"
      ],
      "text/plain": [
       "   SN        Date  No. of Transaction  Max Price  Min Price  Closing Price  \\\n",
       "0   1  2020-01-01                  37      623.0      612.0          619.0   \n",
       "1   2  2019-12-31                  39      649.0      620.0          623.0   \n",
       "2   3  2019-12-30                 134      662.0      655.0          662.0   \n",
       "3   4  2019-12-29                  47      664.0      658.0          659.0   \n",
       "4   5  2019-12-26                  45      668.0      654.0          657.0   \n",
       "\n",
       "   Traded Shares  Total Amount  Prev. Closing  Difference(Rs)  % Change  \n",
       "0           6310       3886900          623.0            -4.0     -0.64  \n",
       "1           3034       1896758          662.0           -39.0     -5.89  \n",
       "2          28830      19005838          659.0             3.0      0.46  \n",
       "3           6455       4254337          657.0             2.0      0.30  \n",
       "4           3815       2506070          657.0             0.0      0.00  "
      ]
     },
     "execution_count": 8,
     "metadata": {},
     "output_type": "execute_result"
    }
   ],
   "source": [
    "data_test.head()"
   ]
  },
  {
   "cell_type": "markdown",
   "metadata": {},
   "source": [
    "### After splitting, the column 'Date' is not required. We will drop the column. We specify axis = 1 to command the function to look through the columns for 'Date'"
   ]
  },
  {
   "cell_type": "code",
   "execution_count": 9,
   "metadata": {},
   "outputs": [],
   "source": [
    "df_train = data_training.drop(['Date'], axis = 1)\n"
   ]
  },
  {
   "cell_type": "markdown",
   "metadata": {},
   "source": [
    "### Exploring the Training set"
   ]
  },
  {
   "cell_type": "code",
   "execution_count": 10,
   "metadata": {
    "scrolled": true
   },
   "outputs": [
    {
     "data": {
      "text/html": [
       "<div>\n",
       "<style scoped>\n",
       "    .dataframe tbody tr th:only-of-type {\n",
       "        vertical-align: middle;\n",
       "    }\n",
       "\n",
       "    .dataframe tbody tr th {\n",
       "        vertical-align: top;\n",
       "    }\n",
       "\n",
       "    .dataframe thead th {\n",
       "        text-align: right;\n",
       "    }\n",
       "</style>\n",
       "<table border=\"1\" class=\"dataframe\">\n",
       "  <thead>\n",
       "    <tr style=\"text-align: right;\">\n",
       "      <th></th>\n",
       "      <th>SN</th>\n",
       "      <th>No. of Transaction</th>\n",
       "      <th>Max Price</th>\n",
       "      <th>Min Price</th>\n",
       "      <th>Closing Price</th>\n",
       "      <th>Traded Shares</th>\n",
       "      <th>Total Amount</th>\n",
       "      <th>Prev. Closing</th>\n",
       "      <th>Difference(Rs)</th>\n",
       "      <th>% Change</th>\n",
       "    </tr>\n",
       "  </thead>\n",
       "  <tbody>\n",
       "    <tr>\n",
       "      <th>243</th>\n",
       "      <td>244</td>\n",
       "      <td>15</td>\n",
       "      <td>743.0</td>\n",
       "      <td>731.0</td>\n",
       "      <td>734.0</td>\n",
       "      <td>3110</td>\n",
       "      <td>2286790</td>\n",
       "      <td>743.0</td>\n",
       "      <td>-9.0</td>\n",
       "      <td>-1.21</td>\n",
       "    </tr>\n",
       "    <tr>\n",
       "      <th>244</th>\n",
       "      <td>245</td>\n",
       "      <td>67</td>\n",
       "      <td>797.0</td>\n",
       "      <td>743.0</td>\n",
       "      <td>743.0</td>\n",
       "      <td>18455</td>\n",
       "      <td>13756150</td>\n",
       "      <td>797.0</td>\n",
       "      <td>-54.0</td>\n",
       "      <td>-6.78</td>\n",
       "    </tr>\n",
       "    <tr>\n",
       "      <th>245</th>\n",
       "      <td>246</td>\n",
       "      <td>135</td>\n",
       "      <td>804.0</td>\n",
       "      <td>790.0</td>\n",
       "      <td>797.0</td>\n",
       "      <td>23618</td>\n",
       "      <td>18746584</td>\n",
       "      <td>792.0</td>\n",
       "      <td>5.0</td>\n",
       "      <td>0.63</td>\n",
       "    </tr>\n",
       "    <tr>\n",
       "      <th>246</th>\n",
       "      <td>247</td>\n",
       "      <td>56</td>\n",
       "      <td>792.0</td>\n",
       "      <td>785.0</td>\n",
       "      <td>792.0</td>\n",
       "      <td>13328</td>\n",
       "      <td>10515076</td>\n",
       "      <td>785.0</td>\n",
       "      <td>7.0</td>\n",
       "      <td>0.89</td>\n",
       "    </tr>\n",
       "    <tr>\n",
       "      <th>247</th>\n",
       "      <td>248</td>\n",
       "      <td>31</td>\n",
       "      <td>790.0</td>\n",
       "      <td>780.0</td>\n",
       "      <td>785.0</td>\n",
       "      <td>7800</td>\n",
       "      <td>6108265</td>\n",
       "      <td>790.0</td>\n",
       "      <td>-5.0</td>\n",
       "      <td>-0.63</td>\n",
       "    </tr>\n",
       "  </tbody>\n",
       "</table>\n",
       "</div>"
      ],
      "text/plain": [
       "      SN  No. of Transaction  Max Price  Min Price  Closing Price  \\\n",
       "243  244                  15      743.0      731.0          734.0   \n",
       "244  245                  67      797.0      743.0          743.0   \n",
       "245  246                 135      804.0      790.0          797.0   \n",
       "246  247                  56      792.0      785.0          792.0   \n",
       "247  248                  31      790.0      780.0          785.0   \n",
       "\n",
       "     Traded Shares  Total Amount  Prev. Closing  Difference(Rs)  % Change  \n",
       "243           3110       2286790          743.0            -9.0     -1.21  \n",
       "244          18455      13756150          797.0           -54.0     -6.78  \n",
       "245          23618      18746584          792.0             5.0      0.63  \n",
       "246          13328      10515076          785.0             7.0      0.89  \n",
       "247           7800       6108265          790.0            -5.0     -0.63  "
      ]
     },
     "execution_count": 10,
     "metadata": {},
     "output_type": "execute_result"
    }
   ],
   "source": [
    "df_train.head()"
   ]
  },
  {
   "cell_type": "code",
   "execution_count": 11,
   "metadata": {},
   "outputs": [
    {
     "data": {
      "text/plain": [
       "(1957, 10)"
      ]
     },
     "execution_count": 11,
     "metadata": {},
     "output_type": "execute_result"
    }
   ],
   "source": [
    "df_train.shape"
   ]
  },
  {
   "cell_type": "code",
   "execution_count": 12,
   "metadata": {},
   "outputs": [
    {
     "data": {
      "text/plain": [
       "(243, 11)"
      ]
     },
     "execution_count": 12,
     "metadata": {},
     "output_type": "execute_result"
    }
   ],
   "source": [
    "data_test.shape"
   ]
  },
  {
   "cell_type": "code",
   "execution_count": 14,
   "metadata": {},
   "outputs": [
    {
     "data": {
      "text/plain": [
       "array([[0.00000000e+00, 3.18181818e-02, 6.36521739e-01, ...,\n",
       "        6.56794425e-01, 5.00000000e-01, 4.38938939e-01],\n",
       "       [5.11247444e-04, 1.50000000e-01, 7.30434783e-01, ...,\n",
       "        7.50871080e-01, 9.82142857e-02, 1.60160160e-01],\n",
       "       [1.02249489e-03, 3.04545455e-01, 7.42608696e-01, ...,\n",
       "        7.42160279e-01, 6.25000000e-01, 5.31031031e-01],\n",
       "       ...,\n",
       "       [9.98977505e-01, 2.72727273e-02, 1.35652174e-01, ...,\n",
       "        8.36236934e-02, 9.46428571e-01, 9.94994995e-01],\n",
       "       [9.99488753e-01, 2.72727273e-02, 1.35652174e-01, ...,\n",
       "        8.36236934e-02, 9.46428571e-01, 9.94994995e-01],\n",
       "       [1.00000000e+00, 2.72727273e-02, 1.35652174e-01, ...,\n",
       "        8.36236934e-02, 9.46428571e-01, 9.94994995e-01]])"
      ]
     },
     "execution_count": 14,
     "metadata": {},
     "output_type": "execute_result"
    }
   ],
   "source": [
    "scaler = MinMaxScaler()\n",
    "df_train1 = scaler.fit_transform(df_train)\n",
    "df_train1"
   ]
  },
  {
   "cell_type": "markdown",
   "metadata": {},
   "source": [
    "### We will train the data in smaller bits of 60 days. We want to train the model with data of 60 days at a time \n",
    "\n",
    "### The loop will run the code until the training shape is 0\n",
    "\n"
   ]
  },
  {
   "cell_type": "markdown",
   "metadata": {},
   "source": [
    "### the i is set to iterate from 60 to 1957 (current length)\n",
    "\n",
    "### It starts from i - 60 and goes until its equal to 60. In the next step, the same process if executed on y_train. \n",
    "\n",
    "### The parameters in y_train (i, 0) states the price on the 60th day\n",
    "\n",
    "### At last, we store the data into numpy arrays"
   ]
  },
  {
   "cell_type": "code",
   "execution_count": 15,
   "metadata": {},
   "outputs": [],
   "source": [
    "X_train = []\n",
    "y_train = []\n",
    "\n",
    "for i in range(60, df_train1.shape[0]):\n",
    "    X_train.append(df_train1[i-60:i])\n",
    "    y_train.append(df_train1[i, 0])\n",
    "    \n",
    "X_train, y_train = np.array(X_train), np.array(y_train)\n"
   ]
  },
  {
   "cell_type": "markdown",
   "metadata": {},
   "source": [
    "### We can see the shape of X_train. \n",
    "\n",
    "### It has 1897 rows \n",
    "### Divided into a list of 60  \n",
    "### each list has 10 columns i.e. attributes "
   ]
  },
  {
   "cell_type": "code",
   "execution_count": 16,
   "metadata": {},
   "outputs": [
    {
     "data": {
      "text/plain": [
       "(1897, 60, 10)"
      ]
     },
     "execution_count": 16,
     "metadata": {},
     "output_type": "execute_result"
    }
   ],
   "source": [
    "X_train.shape\n"
   ]
  },
  {
   "cell_type": "markdown",
   "metadata": {},
   "source": [
    "# Building LSTM"
   ]
  },
  {
   "cell_type": "markdown",
   "metadata": {},
   "source": [
    "### importing Dependencies: Sequential, Dense, LSTM and Dropout"
   ]
  },
  {
   "cell_type": "code",
   "execution_count": 17,
   "metadata": {},
   "outputs": [],
   "source": [
    "from tensorflow.keras import Sequential\n",
    "from tensorflow.keras.layers import Dense, LSTM, Dropout"
   ]
  },
  {
   "cell_type": "markdown",
   "metadata": {},
   "source": [
    "### We are using Sequential model because it performs best when each layer will be provided with one input tensor and will have one output tensor"
   ]
  },
  {
   "cell_type": "code",
   "execution_count": 18,
   "metadata": {},
   "outputs": [],
   "source": [
    "regressor =Sequential()\n"
   ]
  },
  {
   "cell_type": "code",
   "execution_count": 19,
   "metadata": {},
   "outputs": [
    {
     "data": {
      "text/plain": [
       "(1897, 60, 10)"
      ]
     },
     "execution_count": 19,
     "metadata": {},
     "output_type": "execute_result"
    }
   ],
   "source": [
    "X_train.shape\n"
   ]
  },
  {
   "cell_type": "markdown",
   "metadata": {},
   "source": [
    "### The Activation function Rectified Linear Activation Function (RELU) is used bacause it is able to detect non-linear trends. \n",
    "### It also outputs the input values directly if its positive, or zero in other case. Due to these features RELU is widely used in these type of models."
   ]
  },
  {
   "cell_type": "markdown",
   "metadata": {},
   "source": [
    "### The first LSTM layer will have 60 units. i.e. memory units of each neuron.\n",
    "\n",
    "### return_sequences = True returns the full sequence in the output i.e. with hidden sequence\n",
    "\n",
    "### input_shape is set to (60, 10). This depends on out data. The dimention of our data is 60 by 10\n",
    "\n",
    "### Dropout layer prevents the model from overfitting. It limits model to certain dataset and ignores neurons while training randomly. "
   ]
  },
  {
   "cell_type": "markdown",
   "metadata": {},
   "source": [
    "### The final layer is Dense layer. It states that the neurons from that layer is completely connected to the previous layers. We have set the units value 1 because we are predicting single value. "
   ]
  },
  {
   "cell_type": "code",
   "execution_count": 20,
   "metadata": {},
   "outputs": [],
   "source": [
    "regressor.add(LSTM(units = 60, activation = 'relu', return_sequences = True, input_shape = (60, 10)))\n",
    "regressor.add(Dropout(0.2))\n",
    "\n",
    "regressor.add(LSTM(units = 60, activation = 'relu', return_sequences = True))\n",
    "regressor.add(Dropout(0.2))\n",
    "\n",
    "regressor.add(LSTM(units = 80, activation = 'relu', return_sequences = True))\n",
    "regressor.add(Dropout(0.2))\n",
    "\n",
    "regressor.add(LSTM(units = 120, activation = 'relu'))\n",
    "regressor.add(Dropout(0.2))\n",
    "\n",
    "regressor.add(Dense(units = 1))"
   ]
  },
  {
   "cell_type": "markdown",
   "metadata": {},
   "source": [
    "## Model Summary"
   ]
  },
  {
   "cell_type": "code",
   "execution_count": 21,
   "metadata": {
    "scrolled": true
   },
   "outputs": [
    {
     "name": "stdout",
     "output_type": "stream",
     "text": [
      "Model: \"sequential\"\n",
      "_________________________________________________________________\n",
      "Layer (type)                 Output Shape              Param #   \n",
      "=================================================================\n",
      "lstm (LSTM)                  (None, 60, 60)            17040     \n",
      "_________________________________________________________________\n",
      "dropout (Dropout)            (None, 60, 60)            0         \n",
      "_________________________________________________________________\n",
      "lstm_1 (LSTM)                (None, 60, 60)            29040     \n",
      "_________________________________________________________________\n",
      "dropout_1 (Dropout)          (None, 60, 60)            0         \n",
      "_________________________________________________________________\n",
      "lstm_2 (LSTM)                (None, 60, 80)            45120     \n",
      "_________________________________________________________________\n",
      "dropout_2 (Dropout)          (None, 60, 80)            0         \n",
      "_________________________________________________________________\n",
      "lstm_3 (LSTM)                (None, 120)               96480     \n",
      "_________________________________________________________________\n",
      "dropout_3 (Dropout)          (None, 120)               0         \n",
      "_________________________________________________________________\n",
      "dense (Dense)                (None, 1)                 121       \n",
      "=================================================================\n",
      "Total params: 187,801\n",
      "Trainable params: 187,801\n",
      "Non-trainable params: 0\n",
      "_________________________________________________________________\n"
     ]
    }
   ],
   "source": [
    "regressor.summary()\n"
   ]
  },
  {
   "cell_type": "markdown",
   "metadata": {},
   "source": [
    "### We are using 'adam' optimizer which is best for deep learning models. The loss function will be 'mean squared error'. "
   ]
  },
  {
   "cell_type": "markdown",
   "metadata": {},
   "source": [
    "## Fitting the model\n",
    "### We will use 100 epoch to train the model. It can be understood as no of iterations of training the model. \n",
    "### We now divide the data into batch sizes. It indicates the number of training samples used for each iteration through the neural network. "
   ]
  },
  {
   "cell_type": "code",
   "execution_count": 22,
   "metadata": {},
   "outputs": [
    {
     "name": "stdout",
     "output_type": "stream",
     "text": [
      "Epoch 1/100\n",
      "60/60 [==============================] - 8s 82ms/step - loss: 0.0412\n",
      "Epoch 2/100\n",
      "60/60 [==============================] - 5s 80ms/step - loss: 0.0035\n",
      "Epoch 3/100\n",
      "60/60 [==============================] - 5s 81ms/step - loss: 0.0037\n",
      "Epoch 4/100\n",
      "60/60 [==============================] - 5s 80ms/step - loss: 0.0042\n",
      "Epoch 5/100\n",
      "60/60 [==============================] - 6s 101ms/step - loss: 0.0031\n",
      "Epoch 6/100\n",
      "60/60 [==============================] - 6s 101ms/step - loss: 0.0026\n",
      "Epoch 7/100\n",
      "60/60 [==============================] - 6s 101ms/step - loss: 0.0026\n",
      "Epoch 8/100\n",
      "60/60 [==============================] - 6s 100ms/step - loss: 0.0025\n",
      "Epoch 9/100\n",
      "60/60 [==============================] - 6s 101ms/step - loss: 0.0024\n",
      "Epoch 10/100\n",
      "60/60 [==============================] - 6s 100ms/step - loss: 0.0018\n",
      "Epoch 11/100\n",
      "60/60 [==============================] - 6s 101ms/step - loss: 0.0018\n",
      "Epoch 12/100\n",
      "60/60 [==============================] - 6s 104ms/step - loss: 0.0019\n",
      "Epoch 13/100\n",
      "60/60 [==============================] - 6s 106ms/step - loss: 0.0019\n",
      "Epoch 14/100\n",
      "60/60 [==============================] - 6s 101ms/step - loss: 0.0019\n",
      "Epoch 15/100\n",
      "60/60 [==============================] - 6s 100ms/step - loss: 0.0021\n",
      "Epoch 16/100\n",
      "60/60 [==============================] - 6s 102ms/step - loss: 0.0024\n",
      "Epoch 17/100\n",
      "60/60 [==============================] - 7s 111ms/step - loss: 0.0016\n",
      "Epoch 18/100\n",
      "60/60 [==============================] - 7s 117ms/step - loss: 0.0015\n",
      "Epoch 19/100\n",
      "60/60 [==============================] - 6s 100ms/step - loss: 0.0016\n",
      "Epoch 20/100\n",
      "60/60 [==============================] - 6s 100ms/step - loss: 0.0015\n",
      "Epoch 21/100\n",
      "60/60 [==============================] - 6s 100ms/step - loss: 0.0013\n",
      "Epoch 22/100\n",
      "60/60 [==============================] - 6s 102ms/step - loss: 0.0015\n",
      "Epoch 23/100\n",
      "60/60 [==============================] - 6s 100ms/step - loss: 0.0015\n",
      "Epoch 24/100\n",
      "60/60 [==============================] - 6s 101ms/step - loss: 0.0013\n",
      "Epoch 25/100\n",
      "60/60 [==============================] - 6s 102ms/step - loss: 0.0013\n",
      "Epoch 26/100\n",
      "60/60 [==============================] - 6s 100ms/step - loss: 0.0012\n",
      "Epoch 27/100\n",
      "60/60 [==============================] - 6s 101ms/step - loss: 0.0018\n",
      "Epoch 28/100\n",
      "60/60 [==============================] - 6s 101ms/step - loss: 0.0011\n",
      "Epoch 29/100\n",
      "60/60 [==============================] - 6s 100ms/step - loss: 0.0013\n",
      "Epoch 30/100\n",
      "60/60 [==============================] - 6s 101ms/step - loss: 0.0013\n",
      "Epoch 31/100\n",
      "60/60 [==============================] - 6s 101ms/step - loss: 0.0015\n",
      "Epoch 32/100\n",
      "60/60 [==============================] - 6s 102ms/step - loss: 0.0011\n",
      "Epoch 33/100\n",
      "60/60 [==============================] - 6s 101ms/step - loss: 0.0013\n",
      "Epoch 34/100\n",
      "60/60 [==============================] - 6s 102ms/step - loss: 0.0010\n",
      "Epoch 35/100\n",
      "60/60 [==============================] - 6s 101ms/step - loss: 0.0011\n",
      "Epoch 36/100\n",
      "60/60 [==============================] - 6s 100ms/step - loss: 0.0012\n",
      "Epoch 37/100\n",
      "60/60 [==============================] - 6s 101ms/step - loss: 0.0014\n",
      "Epoch 38/100\n",
      "60/60 [==============================] - 7s 121ms/step - loss: 0.0012\n",
      "Epoch 39/100\n",
      "60/60 [==============================] - 6s 103ms/step - loss: 0.0011\n",
      "Epoch 40/100\n",
      "60/60 [==============================] - 6s 100ms/step - loss: 0.0012\n",
      "Epoch 41/100\n",
      "60/60 [==============================] - 6s 100ms/step - loss: 0.0010\n",
      "Epoch 42/100\n",
      "60/60 [==============================] - 6s 101ms/step - loss: 0.0012\n",
      "Epoch 43/100\n",
      "60/60 [==============================] - 6s 101ms/step - loss: 9.9232e-04\n",
      "Epoch 44/100\n",
      "60/60 [==============================] - 6s 101ms/step - loss: 0.0011\n",
      "Epoch 45/100\n",
      "60/60 [==============================] - 6s 101ms/step - loss: 0.0012\n",
      "Epoch 46/100\n",
      "60/60 [==============================] - 6s 101ms/step - loss: 0.0010\n",
      "Epoch 47/100\n",
      "60/60 [==============================] - 6s 101ms/step - loss: 0.0010\n",
      "Epoch 48/100\n",
      "60/60 [==============================] - 6s 100ms/step - loss: 8.5664e-04\n",
      "Epoch 49/100\n",
      "60/60 [==============================] - 6s 102ms/step - loss: 9.3892e-04\n",
      "Epoch 50/100\n",
      "60/60 [==============================] - 6s 102ms/step - loss: 9.5360e-04\n",
      "Epoch 51/100\n",
      "60/60 [==============================] - 6s 100ms/step - loss: 0.0011\n",
      "Epoch 52/100\n",
      "60/60 [==============================] - 6s 101ms/step - loss: 0.0011\n",
      "Epoch 53/100\n",
      "60/60 [==============================] - 6s 102ms/step - loss: 9.4552e-04\n",
      "Epoch 54/100\n",
      "60/60 [==============================] - 7s 115ms/step - loss: 9.9312e-04\n",
      "Epoch 55/100\n",
      "60/60 [==============================] - 6s 103ms/step - loss: 0.0010\n",
      "Epoch 56/100\n",
      "60/60 [==============================] - 6s 102ms/step - loss: 8.8880e-04\n",
      "Epoch 57/100\n",
      "60/60 [==============================] - 6s 102ms/step - loss: 8.4797e-04\n",
      "Epoch 58/100\n",
      "60/60 [==============================] - 6s 101ms/step - loss: 7.9731e-04\n",
      "Epoch 59/100\n",
      "60/60 [==============================] - 6s 102ms/step - loss: 9.0903e-04\n",
      "Epoch 60/100\n",
      "60/60 [==============================] - 6s 101ms/step - loss: 9.1070e-04\n",
      "Epoch 61/100\n",
      "60/60 [==============================] - 6s 101ms/step - loss: 8.7308e-04\n",
      "Epoch 62/100\n",
      "60/60 [==============================] - 6s 107ms/step - loss: 8.2343e-04\n",
      "Epoch 63/100\n",
      "60/60 [==============================] - 6s 102ms/step - loss: 8.4912e-04\n",
      "Epoch 64/100\n",
      "60/60 [==============================] - 6s 103ms/step - loss: 7.8591e-04\n",
      "Epoch 65/100\n",
      "60/60 [==============================] - 6s 102ms/step - loss: 8.1047e-04\n",
      "Epoch 66/100\n",
      "60/60 [==============================] - 6s 102ms/step - loss: 8.0373e-04\n",
      "Epoch 67/100\n",
      "60/60 [==============================] - 6s 102ms/step - loss: 8.1134e-04\n",
      "Epoch 68/100\n",
      "60/60 [==============================] - 6s 102ms/step - loss: 8.6175e-04\n",
      "Epoch 69/100\n",
      "60/60 [==============================] - 6s 102ms/step - loss: 7.3779e-04\n",
      "Epoch 70/100\n",
      "60/60 [==============================] - 6s 101ms/step - loss: 7.9054e-04\n",
      "Epoch 71/100\n",
      "60/60 [==============================] - 6s 103ms/step - loss: 7.5522e-04\n",
      "Epoch 72/100\n",
      "60/60 [==============================] - 6s 101ms/step - loss: 7.0556e-04\n",
      "Epoch 73/100\n",
      "60/60 [==============================] - 6s 102ms/step - loss: 7.2591e-04\n",
      "Epoch 74/100\n",
      "60/60 [==============================] - 6s 102ms/step - loss: 6.4443e-04\n",
      "Epoch 75/100\n",
      "60/60 [==============================] - 6s 102ms/step - loss: 7.5304e-04\n",
      "Epoch 76/100\n",
      "60/60 [==============================] - 6s 105ms/step - loss: 8.7240e-04\n",
      "Epoch 77/100\n",
      "60/60 [==============================] - 7s 111ms/step - loss: 7.8822e-04\n",
      "Epoch 78/100\n",
      "60/60 [==============================] - 7s 115ms/step - loss: 7.2330e-04\n",
      "Epoch 79/100\n",
      "60/60 [==============================] - 7s 116ms/step - loss: 8.6262e-04\n",
      "Epoch 80/100\n",
      "60/60 [==============================] - 7s 112ms/step - loss: 7.0049e-04\n",
      "Epoch 81/100\n",
      "60/60 [==============================] - 6s 105ms/step - loss: 6.8692e-04\n",
      "Epoch 82/100\n",
      "60/60 [==============================] - 6s 102ms/step - loss: 7.3906e-04\n",
      "Epoch 83/100\n",
      "60/60 [==============================] - 8s 132ms/step - loss: 7.2340e-04\n",
      "Epoch 84/100\n",
      "60/60 [==============================] - 7s 115ms/step - loss: 7.2319e-04\n",
      "Epoch 85/100\n",
      "60/60 [==============================] - 6s 102ms/step - loss: 7.8310e-04\n",
      "Epoch 86/100\n",
      "60/60 [==============================] - 6s 104ms/step - loss: 6.7397e-04\n",
      "Epoch 87/100\n",
      "60/60 [==============================] - 6s 102ms/step - loss: 6.2095e-04\n",
      "Epoch 88/100\n",
      "60/60 [==============================] - 6s 103ms/step - loss: 0.0029\n",
      "Epoch 89/100\n",
      "60/60 [==============================] - 6s 102ms/step - loss: 0.0011\n",
      "Epoch 90/100\n",
      "60/60 [==============================] - 6s 102ms/step - loss: 8.1280e-04\n",
      "Epoch 91/100\n",
      "60/60 [==============================] - 6s 103ms/step - loss: 7.8181e-04\n",
      "Epoch 92/100\n",
      "60/60 [==============================] - 6s 103ms/step - loss: 7.8086e-04\n",
      "Epoch 93/100\n",
      "60/60 [==============================] - 8s 127ms/step - loss: 6.9464e-04\n",
      "Epoch 94/100\n",
      "60/60 [==============================] - 6s 100ms/step - loss: 7.5548e-04\n",
      "Epoch 95/100\n",
      "60/60 [==============================] - 7s 112ms/step - loss: 6.7452e-04\n",
      "Epoch 96/100\n",
      "60/60 [==============================] - 7s 109ms/step - loss: 6.7496e-04\n",
      "Epoch 97/100\n",
      "60/60 [==============================] - 7s 117ms/step - loss: 6.2137e-04\n",
      "Epoch 98/100\n",
      "60/60 [==============================] - 8s 131ms/step - loss: 7.6055e-04\n",
      "Epoch 99/100\n",
      "60/60 [==============================] - 6s 99ms/step - loss: 6.5347e-04\n",
      "Epoch 100/100\n",
      "60/60 [==============================] - 7s 111ms/step - loss: 7.1007e-04\n"
     ]
    },
    {
     "data": {
      "text/plain": [
       "<keras.callbacks.History at 0x7f99f0463fd0>"
      ]
     },
     "execution_count": 22,
     "metadata": {},
     "output_type": "execute_result"
    }
   ],
   "source": [
    "regressor.compile(optimizer='adam', loss = 'mean_squared_error')\n",
    "regressor.fit(X_train, y_train, epochs=100, batch_size=32)"
   ]
  },
  {
   "cell_type": "markdown",
   "metadata": {},
   "source": [
    "# preparing test dataset"
   ]
  },
  {
   "cell_type": "code",
   "execution_count": 24,
   "metadata": {},
   "outputs": [
    {
     "data": {
      "text/html": [
       "<div>\n",
       "<style scoped>\n",
       "    .dataframe tbody tr th:only-of-type {\n",
       "        vertical-align: middle;\n",
       "    }\n",
       "\n",
       "    .dataframe tbody tr th {\n",
       "        vertical-align: top;\n",
       "    }\n",
       "\n",
       "    .dataframe thead th {\n",
       "        text-align: right;\n",
       "    }\n",
       "</style>\n",
       "<table border=\"1\" class=\"dataframe\">\n",
       "  <thead>\n",
       "    <tr style=\"text-align: right;\">\n",
       "      <th></th>\n",
       "      <th>SN</th>\n",
       "      <th>Date</th>\n",
       "      <th>No. of Transaction</th>\n",
       "      <th>Max Price</th>\n",
       "      <th>Min Price</th>\n",
       "      <th>Closing Price</th>\n",
       "      <th>Traded Shares</th>\n",
       "      <th>Total Amount</th>\n",
       "      <th>Prev. Closing</th>\n",
       "      <th>Difference(Rs)</th>\n",
       "      <th>% Change</th>\n",
       "    </tr>\n",
       "  </thead>\n",
       "  <tbody>\n",
       "    <tr>\n",
       "      <th>0</th>\n",
       "      <td>1</td>\n",
       "      <td>2020-01-01</td>\n",
       "      <td>37</td>\n",
       "      <td>623.0</td>\n",
       "      <td>612.0</td>\n",
       "      <td>619.0</td>\n",
       "      <td>6310</td>\n",
       "      <td>3886900</td>\n",
       "      <td>623.0</td>\n",
       "      <td>-4.0</td>\n",
       "      <td>-0.64</td>\n",
       "    </tr>\n",
       "    <tr>\n",
       "      <th>1</th>\n",
       "      <td>2</td>\n",
       "      <td>2019-12-31</td>\n",
       "      <td>39</td>\n",
       "      <td>649.0</td>\n",
       "      <td>620.0</td>\n",
       "      <td>623.0</td>\n",
       "      <td>3034</td>\n",
       "      <td>1896758</td>\n",
       "      <td>662.0</td>\n",
       "      <td>-39.0</td>\n",
       "      <td>-5.89</td>\n",
       "    </tr>\n",
       "    <tr>\n",
       "      <th>2</th>\n",
       "      <td>3</td>\n",
       "      <td>2019-12-30</td>\n",
       "      <td>134</td>\n",
       "      <td>662.0</td>\n",
       "      <td>655.0</td>\n",
       "      <td>662.0</td>\n",
       "      <td>28830</td>\n",
       "      <td>19005838</td>\n",
       "      <td>659.0</td>\n",
       "      <td>3.0</td>\n",
       "      <td>0.46</td>\n",
       "    </tr>\n",
       "    <tr>\n",
       "      <th>3</th>\n",
       "      <td>4</td>\n",
       "      <td>2019-12-29</td>\n",
       "      <td>47</td>\n",
       "      <td>664.0</td>\n",
       "      <td>658.0</td>\n",
       "      <td>659.0</td>\n",
       "      <td>6455</td>\n",
       "      <td>4254337</td>\n",
       "      <td>657.0</td>\n",
       "      <td>2.0</td>\n",
       "      <td>0.30</td>\n",
       "    </tr>\n",
       "    <tr>\n",
       "      <th>4</th>\n",
       "      <td>5</td>\n",
       "      <td>2019-12-26</td>\n",
       "      <td>45</td>\n",
       "      <td>668.0</td>\n",
       "      <td>654.0</td>\n",
       "      <td>657.0</td>\n",
       "      <td>3815</td>\n",
       "      <td>2506070</td>\n",
       "      <td>657.0</td>\n",
       "      <td>0.0</td>\n",
       "      <td>0.00</td>\n",
       "    </tr>\n",
       "  </tbody>\n",
       "</table>\n",
       "</div>"
      ],
      "text/plain": [
       "   SN        Date  No. of Transaction  Max Price  Min Price  Closing Price  \\\n",
       "0   1  2020-01-01                  37      623.0      612.0          619.0   \n",
       "1   2  2019-12-31                  39      649.0      620.0          623.0   \n",
       "2   3  2019-12-30                 134      662.0      655.0          662.0   \n",
       "3   4  2019-12-29                  47      664.0      658.0          659.0   \n",
       "4   5  2019-12-26                  45      668.0      654.0          657.0   \n",
       "\n",
       "   Traded Shares  Total Amount  Prev. Closing  Difference(Rs)  % Change  \n",
       "0           6310       3886900          623.0            -4.0     -0.64  \n",
       "1           3034       1896758          662.0           -39.0     -5.89  \n",
       "2          28830      19005838          659.0             3.0      0.46  \n",
       "3           6455       4254337          657.0             2.0      0.30  \n",
       "4           3815       2506070          657.0             0.0      0.00  "
      ]
     },
     "execution_count": 24,
     "metadata": {},
     "output_type": "execute_result"
    }
   ],
   "source": [
    "data_test.head()\n"
   ]
  },
  {
   "cell_type": "markdown",
   "metadata": {},
   "source": [
    "### We are predicting the stock price in terms of the previous 60 days. Using .tail(60), we are able to retrieve that."
   ]
  },
  {
   "cell_type": "code",
   "execution_count": 25,
   "metadata": {},
   "outputs": [],
   "source": [
    "past_60_days = data_training.tail(60)\n"
   ]
  },
  {
   "cell_type": "markdown",
   "metadata": {},
   "source": [
    "### We will now append test data and ignore the index. \n",
    "### We do not need the Date column in the test set as well. So we will drop it"
   ]
  },
  {
   "cell_type": "code",
   "execution_count": 26,
   "metadata": {},
   "outputs": [
    {
     "data": {
      "text/html": [
       "<div>\n",
       "<style scoped>\n",
       "    .dataframe tbody tr th:only-of-type {\n",
       "        vertical-align: middle;\n",
       "    }\n",
       "\n",
       "    .dataframe tbody tr th {\n",
       "        vertical-align: top;\n",
       "    }\n",
       "\n",
       "    .dataframe thead th {\n",
       "        text-align: right;\n",
       "    }\n",
       "</style>\n",
       "<table border=\"1\" class=\"dataframe\">\n",
       "  <thead>\n",
       "    <tr style=\"text-align: right;\">\n",
       "      <th></th>\n",
       "      <th>SN</th>\n",
       "      <th>No. of Transaction</th>\n",
       "      <th>Max Price</th>\n",
       "      <th>Min Price</th>\n",
       "      <th>Closing Price</th>\n",
       "      <th>Traded Shares</th>\n",
       "      <th>Total Amount</th>\n",
       "      <th>Prev. Closing</th>\n",
       "      <th>Difference(Rs)</th>\n",
       "      <th>% Change</th>\n",
       "    </tr>\n",
       "  </thead>\n",
       "  <tbody>\n",
       "    <tr>\n",
       "      <th>0</th>\n",
       "      <td>2141</td>\n",
       "      <td>3</td>\n",
       "      <td>458.0</td>\n",
       "      <td>451.0</td>\n",
       "      <td>458.0</td>\n",
       "      <td>600</td>\n",
       "      <td>273400</td>\n",
       "      <td>460.0</td>\n",
       "      <td>-2.0</td>\n",
       "      <td>-0.43</td>\n",
       "    </tr>\n",
       "    <tr>\n",
       "      <th>1</th>\n",
       "      <td>2142</td>\n",
       "      <td>2</td>\n",
       "      <td>460.0</td>\n",
       "      <td>451.0</td>\n",
       "      <td>460.0</td>\n",
       "      <td>400</td>\n",
       "      <td>181300</td>\n",
       "      <td>458.0</td>\n",
       "      <td>2.0</td>\n",
       "      <td>0.44</td>\n",
       "    </tr>\n",
       "    <tr>\n",
       "      <th>2</th>\n",
       "      <td>2143</td>\n",
       "      <td>2</td>\n",
       "      <td>458.0</td>\n",
       "      <td>458.0</td>\n",
       "      <td>458.0</td>\n",
       "      <td>360</td>\n",
       "      <td>164880</td>\n",
       "      <td>456.0</td>\n",
       "      <td>2.0</td>\n",
       "      <td>0.44</td>\n",
       "    </tr>\n",
       "    <tr>\n",
       "      <th>3</th>\n",
       "      <td>2144</td>\n",
       "      <td>2</td>\n",
       "      <td>456.0</td>\n",
       "      <td>456.0</td>\n",
       "      <td>456.0</td>\n",
       "      <td>1000</td>\n",
       "      <td>456000</td>\n",
       "      <td>456.0</td>\n",
       "      <td>0.0</td>\n",
       "      <td>0.00</td>\n",
       "    </tr>\n",
       "    <tr>\n",
       "      <th>4</th>\n",
       "      <td>2145</td>\n",
       "      <td>3</td>\n",
       "      <td>456.0</td>\n",
       "      <td>450.0</td>\n",
       "      <td>456.0</td>\n",
       "      <td>700</td>\n",
       "      <td>315800</td>\n",
       "      <td>450.0</td>\n",
       "      <td>6.0</td>\n",
       "      <td>1.33</td>\n",
       "    </tr>\n",
       "  </tbody>\n",
       "</table>\n",
       "</div>"
      ],
      "text/plain": [
       "     SN  No. of Transaction  Max Price  Min Price  Closing Price  \\\n",
       "0  2141                   3      458.0      451.0          458.0   \n",
       "1  2142                   2      460.0      451.0          460.0   \n",
       "2  2143                   2      458.0      458.0          458.0   \n",
       "3  2144                   2      456.0      456.0          456.0   \n",
       "4  2145                   3      456.0      450.0          456.0   \n",
       "\n",
       "   Traded Shares  Total Amount  Prev. Closing  Difference(Rs)  % Change  \n",
       "0            600        273400          460.0            -2.0     -0.43  \n",
       "1            400        181300          458.0             2.0      0.44  \n",
       "2            360        164880          456.0             2.0      0.44  \n",
       "3           1000        456000          456.0             0.0      0.00  \n",
       "4            700        315800          450.0             6.0      1.33  "
      ]
     },
     "execution_count": 26,
     "metadata": {},
     "output_type": "execute_result"
    }
   ],
   "source": [
    "df = past_60_days.append(data_test, ignore_index = True)\n",
    "df = df.drop(['Date'], axis = 1)\n",
    "df.head()"
   ]
  },
  {
   "cell_type": "markdown",
   "metadata": {},
   "source": [
    "### Shape of test set"
   ]
  },
  {
   "cell_type": "code",
   "execution_count": 27,
   "metadata": {
    "scrolled": true
   },
   "outputs": [
    {
     "data": {
      "text/plain": [
       "(303, 10)"
      ]
     },
     "execution_count": 27,
     "metadata": {},
     "output_type": "execute_result"
    }
   ],
   "source": [
    "df.shape"
   ]
  },
  {
   "cell_type": "code",
   "execution_count": 28,
   "metadata": {},
   "outputs": [
    {
     "data": {
      "text/plain": [
       "array([[ 9.69836401e-01,  4.54545455e-03,  1.40869565e-01, ...,\n",
       "         1.63763066e-01,  5.62500000e-01,  4.77977978e-01],\n",
       "       [ 9.70347648e-01,  2.27272727e-03,  1.44347826e-01, ...,\n",
       "         1.60278746e-01,  5.98214286e-01,  5.21521522e-01],\n",
       "       [ 9.70858896e-01,  2.27272727e-03,  1.40869565e-01, ...,\n",
       "         1.56794425e-01,  5.98214286e-01,  5.21521522e-01],\n",
       "       ...,\n",
       "       [-1.53374233e-03,  4.54545455e-02,  6.31304348e-01, ...,\n",
       "         6.34146341e-01,  5.89285714e-01,  5.06506507e-01],\n",
       "       [-1.02249489e-03,  1.59090909e-02,  6.36521739e-01, ...,\n",
       "         6.41114983e-01,  5.44642857e-01,  4.72472472e-01],\n",
       "       [-5.11247444e-04,  1.59090909e-02,  6.45217391e-01, ...,\n",
       "         6.41114983e-01,  5.80357143e-01,  4.99499499e-01]])"
      ]
     },
     "execution_count": 28,
     "metadata": {},
     "output_type": "execute_result"
    }
   ],
   "source": [
    "inputs = scaler.transform(df)\n",
    "inputs"
   ]
  },
  {
   "cell_type": "markdown",
   "metadata": {},
   "source": [
    "### Similar to the training set, we are didiving the data into chunks of 60 days and storing it to X_test and y_test"
   ]
  },
  {
   "cell_type": "code",
   "execution_count": 29,
   "metadata": {},
   "outputs": [
    {
     "data": {
      "text/plain": [
       "((243, 60, 10), (243,))"
      ]
     },
     "execution_count": 29,
     "metadata": {},
     "output_type": "execute_result"
    }
   ],
   "source": [
    "X_test = []\n",
    "y_test = []\n",
    "\n",
    "for i in range(60, inputs.shape[0]):\n",
    "    X_test.append(inputs[i-60:i])\n",
    "    y_test.append(inputs[i, 0])\n",
    "\n",
    "X_test, y_test = np.array(X_test), np.array(y_test)\n",
    "X_test.shape, y_test.shape"
   ]
  },
  {
   "cell_type": "markdown",
   "metadata": {},
   "source": [
    "## Predicting the price"
   ]
  },
  {
   "cell_type": "code",
   "execution_count": 30,
   "metadata": {},
   "outputs": [],
   "source": [
    "y_pred = regressor.predict(X_test)\n"
   ]
  },
  {
   "cell_type": "markdown",
   "metadata": {},
   "source": [
    "### Scaling.scale_ returns the scaling factor"
   ]
  },
  {
   "cell_type": "code",
   "execution_count": 31,
   "metadata": {},
   "outputs": [
    {
     "data": {
      "text/plain": [
       "array([5.11247444e-04, 2.27272727e-03, 1.73913043e-03, 1.77619893e-03,\n",
       "       1.06382979e-03, 7.33084085e-06, 9.70454710e-09, 1.74216028e-03,\n",
       "       8.92857143e-03, 5.00500501e-02])"
      ]
     },
     "execution_count": 31,
     "metadata": {},
     "output_type": "execute_result"
    }
   ],
   "source": [
    "scaler.scale_\n"
   ]
  },
  {
   "cell_type": "markdown",
   "metadata": {},
   "source": [
    "### We inverse the scale value and multiply it to y_pred and y_test. "
   ]
  },
  {
   "cell_type": "code",
   "execution_count": 32,
   "metadata": {},
   "outputs": [
    {
     "data": {
      "text/plain": [
       "1955.999999092416"
      ]
     },
     "execution_count": 32,
     "metadata": {},
     "output_type": "execute_result"
    }
   ],
   "source": [
    "scale = 1/5.11247444e-04\n",
    "scale"
   ]
  },
  {
   "cell_type": "markdown",
   "metadata": {},
   "source": [
    "### The actual values are stored in the y_test and predicted values in the y_pred value. "
   ]
  },
  {
   "cell_type": "code",
   "execution_count": 33,
   "metadata": {},
   "outputs": [],
   "source": [
    "y_pred = y_pred*scale\n",
    "y_test = y_test*scale"
   ]
  },
  {
   "cell_type": "markdown",
   "metadata": {},
   "source": [
    "## Visualizing Output"
   ]
  },
  {
   "cell_type": "markdown",
   "metadata": {},
   "source": [
    "### We can see from the graph, the model is decently accurate. The Red line represents the Real Stock Prices, whereas the blue line represents Predicted prices."
   ]
  },
  {
   "cell_type": "code",
   "execution_count": 34,
   "metadata": {
    "scrolled": true
   },
   "outputs": [
    {
     "data": {
      "image/png": "[encoded data removed]",
      "text/plain": [
       "<Figure size 1008x360 with 1 Axes>"
      ]
     },
     "metadata": {
      "needs_background": "light"
     },
     "output_type": "display_data"
    }
   ],
   "source": [
    "# Visualising the results\n",
    "plt.figure(figsize=(14,5))\n",
    "plt.plot(y_test, color = 'red', label = 'Real NTC Stock Price')\n",
    "plt.plot(y_pred, color = 'blue', label = 'Predicted NTC Stock Price')\n",
    "plt.title('NTC Stock Price Prediction')\n",
    "plt.xlabel('Time')\n",
    "plt.ylabel('NTC Stock Price')\n",
    "plt.legend()\n",
    "plt.show()"
   ]
  },
  {
   "cell_type": "markdown",
   "metadata": {},
   "source": [
    "### The stocks seem to grow on an average rate over the years. This is a very common behaviour. In most cases the average yearly growth is between 6% to 12%. \n",
    "\n",
    "### There is plenty of room for tuning and improvent for this model to get more precise results."
   ]
  },
  {
   "cell_type": "markdown",
   "metadata": {},
   "source": [
    "### Resources: \n",
    "\n",
    "- **Understanding LSTM: a tutorial into Long Short-Term Memory** by Ralf C. Staudemeyer & Eric Rothstein Morris\n",
    "- **On stock return prediction with LSTM networks** by Magnus Hansson\n",
    "- Analytics Vidhya\n",
    "- KD nuggets\n",
    "- Medium (risha-shah.medium.com)\n"
   ]
  }
 ],
 "metadata": {
  "kernelspec": {
   "display_name": "Python 3",
   "language": "python",
   "name": "python3"
  },
  "language_info": {
   "codemirror_mode": {
    "name": "ipython",
    "version": 3
   },
   "file_extension": ".py",
   "mimetype": "text/x-python",
   "name": "python",
   "nbconvert_exporter": "python",
   "pygments_lexer": "ipython3",
   "version": "3.8.10"
  }
 },
 "nbformat": 4,
 "nbformat_minor": 4
}
